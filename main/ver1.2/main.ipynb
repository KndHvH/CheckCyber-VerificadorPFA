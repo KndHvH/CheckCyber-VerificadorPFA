{
  "cells": [
    {
      "cell_type": "markdown",
      "source": [
        "# Instalando as bibliotecas\n"
      ],
      "metadata": {
        "id": "uMJb_bzA8SwM"
      }
    },
    {
      "cell_type": "code",
      "execution_count": null,
      "metadata": {
        "collapsed": true,
        "id": "Ey4SSeU68K2A"
      },
      "outputs": [],
      "source": [
        "!pip install -q pyngrok\n",
        "!pip install -q streamlit\n",
        "!pip install -q streamlit_ace\n",
        "!pip install fuzzywuzzy[speedup]\n",
        "!streamlit run app.py & > / dev / null &"
      ]
    },
    {
      "cell_type": "markdown",
      "source": [
        "# Codigo app.py"
      ],
      "metadata": {
        "id": "OUZKlnXiRQt-"
      }
    },
    {
      "cell_type": "code",
      "source": [
        "%%writefile app.py\n",
        "\n",
        "import streamlit as st\n",
        "import requests as req\n",
        "import re\n",
        "from fuzzywuzzy import process\n",
        "from fuzzywuzzy import fuzz\n",
        "from pyngrok import ngrok\n",
        "\n",
        "def main():\n",
        "    html_temp = \"\"\" <div style =\"background-color:blue;padding:13px\">\n",
        "                      <h1 style = \"color:white;text-align:center;\">Verificador Imigração - PFA</h1>\n",
        "                    </dic>\n",
        "                \"\"\"\n",
        "\n",
        "    st.markdown(html_temp, unsafe_allow_html = True)\n",
        "    lista_passaporte = api_passaport()\n",
        "    lista_nome = api_nome()\n",
        "\n",
        "    lista_passaporte= regexlist(lista_passaporte)\n",
        "\n",
        "    input_passaporte = st.text_input('Passaporte')\n",
        "    input_nome = st.text_input('Nome Completo')\n",
        "\n",
        "    input_passaporte = re.sub('\\D', '', input_passaporte)\n",
        "\n",
        "    if st.button(\"Verificar\"):\n",
        "      clear = 0\n",
        "      clear = valid_passa(input_passaporte,lista_passaporte)\n",
        "      if clear == 1:\n",
        "        valid_nome(input_nome,lista_nome)\n",
        "\n",
        "def api_nome():\n",
        "    lista_nome = []\n",
        "    lista_interpol = req.get(\"https://cspinheiro.github.io/interpol.json\")\n",
        "    interpol = lista_interpol.json()['interpol']\n",
        "    for i in interpol:\n",
        "        lista_nome.append(i['interpol'])\n",
        "\n",
        "    return lista_nome\n",
        "\n",
        "def api_passaport():\n",
        "    lista_passaporte = []\n",
        "    lista_arg = req.get(\"https://kndhvh.github.io/arg.json\")\n",
        "    arg = lista_arg.json()['arg']\n",
        "    for i in arg:\n",
        "        lista_passaporte.append(str(i['arg']))\n",
        "    return lista_passaporte\n",
        "\n",
        "def regexlist(lista):\n",
        "\n",
        "    a='(?i)'\n",
        "\n",
        "    for i in lista:\n",
        "        a += f\"({i})|\"\n",
        "\n",
        "    a = a[:-1]\n",
        "\n",
        "    return a\n",
        "\n",
        "def getmatch_nome(input,lista):\n",
        "    search = process.extractOne(input,lista,scorer=fuzz.token_sort_ratio)\n",
        "    if search[1] > 80:\n",
        "      return 1\n",
        "    return 0\n",
        "        \n",
        "\n",
        "def valid_nome(input_nome,lista_nome):\n",
        "  if len(input_nome) > 4 and len(re.split('\\s',input_nome)) >= 2:\n",
        "      nome = getmatch_nome(input_nome,lista_nome)\n",
        "      if nome == 1:\n",
        "        st.error('[CUIDADO] Nome suspeito, favor investigar!')\n",
        "      if nome == 0:\n",
        "        st.success('[VERIFICADO] Passageiro liberado para entrada no pais!')\n",
        "  else:\n",
        "      st.warning('Nome Invalido!')\n",
        "\n",
        "def getmatch_passa(input,lista):\n",
        "    match = re.search(lista,input)\n",
        "\n",
        "    if match:\n",
        "        return 1\n",
        "    else:\n",
        "        return 0\n",
        "\n",
        "def valid_passa(input_passaporte,lista_passaporte):\n",
        "      if len(input_passaporte) == 9:\n",
        "        passa = getmatch_passa(input_passaporte,lista_passaporte)\n",
        "        if passa == 1:\n",
        "            st.error('[CUIDADO] Passaporte proibido, deter imediatamente!')\n",
        "            return 0\n",
        "        else:\n",
        "          return 1\n",
        "      else:\n",
        "        st.warning('Passaporte Invalido!')\n",
        "\n",
        "if __name__ == '__main__':\n",
        "    main()"
      ],
      "metadata": {
        "id": "GjEKnPwr8bts",
        "outputId": "15132f16-9111-4f74-c621-78651166ef25",
        "colab": {
          "base_uri": "https://localhost:8080/"
        }
      },
      "execution_count": 56,
      "outputs": [
        {
          "output_type": "stream",
          "name": "stdout",
          "text": [
            "Overwriting app.py\n"
          ]
        }
      ]
    },
    {
      "cell_type": "code",
      "source": [
        "!streamlit run app.py & npx localtunnel --port 8501"
      ],
      "metadata": {
        "id": "jMLGHpSi8eVD"
      },
      "execution_count": null,
      "outputs": []
    },
    {
      "cell_type": "code",
      "source": [
        "#teste\n",
        "import requests as req\n",
        "from fuzzywuzzy import process\n",
        "from fuzzywuzzy import fuzz\n",
        "\n",
        "lista_nome = []\n",
        "lista_interpol = req.get(\"https://cspinheiro.github.io/interpol.json\")\n",
        "interpol = lista_interpol.json()['interpol']\n",
        "for i in interpol:\n",
        "    lista_nome.append(i['interpol'])\n",
        "search = process.extractOne('Lucas Silva Leão Andrade ',lista_nome,scorer=fuzz.token_sort_ratio)\n"
      ],
      "metadata": {
        "id": "PyaSQqF0Zl1l"
      },
      "execution_count": 58,
      "outputs": []
    },
    {
      "cell_type": "code",
      "source": [
        "lista_nome"
      ],
      "metadata": {
        "id": "lz6ZLZE4Dqvu"
      },
      "execution_count": null,
      "outputs": []
    },
    {
      "cell_type": "code",
      "source": [
        "print(search[1])"
      ],
      "metadata": {
        "id": "F7BmcA0oY37g",
        "outputId": "f66f7d95-7b49-41b1-bacd-c78bc69c77a3",
        "colab": {
          "base_uri": "https://localhost:8080/"
        }
      },
      "execution_count": 59,
      "outputs": [
        {
          "output_type": "stream",
          "name": "stdout",
          "text": [
            "79\n"
          ]
        }
      ]
    }
  ],
  "metadata": {
    "kernelspec": {
      "display_name": "Python 3",
      "language": "python",
      "name": "python3"
    },
    "language_info": {
      "codemirror_mode": {
        "name": "ipython",
        "version": 2
      },
      "file_extension": ".py",
      "mimetype": "text/x-python",
      "name": "python",
      "nbconvert_exporter": "python",
      "pygments_lexer": "ipython2",
      "version": "2.7.6"
    },
    "colab": {
      "name": "main.ipynb",
      "provenance": []
    }
  },
  "nbformat": 4,
  "nbformat_minor": 0
}