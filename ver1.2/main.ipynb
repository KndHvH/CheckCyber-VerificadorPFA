{
 "cells": [
  {
   "cell_type": "markdown",
   "source": [
    "# Instalando as bibliotecas\n"
   ],
   "metadata": {
    "collapsed": false,
    "pycharm": {
     "name": "#%% md\n"
    }
   }
  },
  {
   "cell_type": "code",
   "execution_count": 1,
   "metadata": {
    "collapsed": true,
    "id": "Ey4SSeU68K2A",
    "pycharm": {
     "name": "#%%\n"
    }
   },
   "outputs": [
    {
     "name": "stderr",
     "output_type": "stream",
     "text": [
      "WARNING: You are using pip version 22.0.4; however, version 22.1.2 is available.\n",
      "You should consider upgrading via the 'c:\\users\\mathe\\pycharmprojects\\120121\\venv\\scripts\\python.exe -m pip install --upgrade pip' command.\n",
      "WARNING: You are using pip version 22.0.4; however, version 22.1.2 is available.\n",
      "You should consider upgrading via the 'c:\\users\\mathe\\pycharmprojects\\120121\\venv\\scripts\\python.exe -m pip install --upgrade pip' command.\n",
      "WARNING: You are using pip version 22.0.4; however, version 22.1.2 is available.\n",
      "You should consider upgrading via the 'c:\\users\\mathe\\pycharmprojects\\120121\\venv\\scripts\\python.exe -m pip install --upgrade pip' command.\n",
      "WARNING: You are using pip version 22.0.4; however, version 22.1.2 is available.\n",
      "You should consider upgrading via the 'c:\\users\\mathe\\pycharmprojects\\120121\\venv\\scripts\\python.exe -m pip install --upgrade pip' command.\n"
     ]
    },
    {
     "name": "stdout",
     "output_type": "stream",
     "text": [
      "Requirement already satisfied: fuzzywuzzy[speedup] in c:\\users\\mathe\\pycharmprojects\\120121\\venv\\lib\\site-packages (0.18.0)\n",
      "Requirement already satisfied: python-levenshtein>=0.12 in c:\\users\\mathe\\pycharmprojects\\120121\\venv\\lib\\site-packages (from fuzzywuzzy[speedup]) (0.12.2)\n",
      "Requirement already satisfied: setuptools in c:\\users\\mathe\\pycharmprojects\\120121\\venv\\lib\\site-packages (from python-levenshtein>=0.12->fuzzywuzzy[speedup]) (57.0.0)\n"
     ]
    },
    {
     "ename": "OSError",
     "evalue": "Background processes not supported.",
     "output_type": "error",
     "traceback": [
      "\u001B[1;31m---------------------------------------------------------------------------\u001B[0m",
      "\u001B[1;31mOSError\u001B[0m                                   Traceback (most recent call last)",
      "Input \u001B[1;32mIn [1]\u001B[0m, in \u001B[0;36m<cell line: 5>\u001B[1;34m()\u001B[0m\n\u001B[0;32m      3\u001B[0m get_ipython()\u001B[38;5;241m.\u001B[39msystem(\u001B[38;5;124m'\u001B[39m\u001B[38;5;124mpip install -q streamlit_ace\u001B[39m\u001B[38;5;124m'\u001B[39m)\n\u001B[0;32m      4\u001B[0m get_ipython()\u001B[38;5;241m.\u001B[39msystem(\u001B[38;5;124m'\u001B[39m\u001B[38;5;124mpip install fuzzywuzzy[speedup]\u001B[39m\u001B[38;5;124m'\u001B[39m)\n\u001B[1;32m----> 5\u001B[0m \u001B[43mget_ipython\u001B[49m\u001B[43m(\u001B[49m\u001B[43m)\u001B[49m\u001B[38;5;241;43m.\u001B[39;49m\u001B[43msystem\u001B[49m\u001B[43m(\u001B[49m\u001B[38;5;124;43m'\u001B[39;49m\u001B[38;5;124;43mstreamlit run app.py & > / dev / null &\u001B[39;49m\u001B[38;5;124;43m'\u001B[39;49m\u001B[43m)\u001B[49m\n",
      "File \u001B[1;32m~\\PycharmProjects\\120121\\venv\\lib\\site-packages\\ipykernel\\zmqshell.py:621\u001B[0m, in \u001B[0;36mZMQInteractiveShell.system_piped\u001B[1;34m(self, cmd)\u001B[0m\n\u001B[0;32m    606\u001B[0m \u001B[38;5;124;03m\"\"\"Call the given cmd in a subprocess, piping stdout/err\u001B[39;00m\n\u001B[0;32m    607\u001B[0m \n\u001B[0;32m    608\u001B[0m \u001B[38;5;124;03mParameters\u001B[39;00m\n\u001B[1;32m   (...)\u001B[0m\n\u001B[0;32m    613\u001B[0m \u001B[38;5;124;03m    other than simple text.\u001B[39;00m\n\u001B[0;32m    614\u001B[0m \u001B[38;5;124;03m\"\"\"\u001B[39;00m\n\u001B[0;32m    615\u001B[0m \u001B[38;5;28;01mif\u001B[39;00m cmd\u001B[38;5;241m.\u001B[39mrstrip()\u001B[38;5;241m.\u001B[39mendswith(\u001B[38;5;124m'\u001B[39m\u001B[38;5;124m&\u001B[39m\u001B[38;5;124m'\u001B[39m):\n\u001B[0;32m    616\u001B[0m     \u001B[38;5;66;03m# this is *far* from a rigorous test\u001B[39;00m\n\u001B[0;32m    617\u001B[0m     \u001B[38;5;66;03m# We do not support backgrounding processes because we either use\u001B[39;00m\n\u001B[0;32m    618\u001B[0m     \u001B[38;5;66;03m# pexpect or pipes to read from.  Users can always just call\u001B[39;00m\n\u001B[0;32m    619\u001B[0m     \u001B[38;5;66;03m# os.system() or use ip.system=ip.system_raw\u001B[39;00m\n\u001B[0;32m    620\u001B[0m     \u001B[38;5;66;03m# if they really want a background process.\u001B[39;00m\n\u001B[1;32m--> 621\u001B[0m     \u001B[38;5;28;01mraise\u001B[39;00m \u001B[38;5;167;01mOSError\u001B[39;00m(\u001B[38;5;124m\"\u001B[39m\u001B[38;5;124mBackground processes not supported.\u001B[39m\u001B[38;5;124m\"\u001B[39m)\n\u001B[0;32m    623\u001B[0m \u001B[38;5;66;03m# we explicitly do NOT return the subprocess status code, because\u001B[39;00m\n\u001B[0;32m    624\u001B[0m \u001B[38;5;66;03m# a non-None value would trigger :func:`sys.displayhook` calls.\u001B[39;00m\n\u001B[0;32m    625\u001B[0m \u001B[38;5;66;03m# Instead, we store the exit_code in user_ns.\u001B[39;00m\n\u001B[0;32m    626\u001B[0m \u001B[38;5;66;03m# Also, protect system call from UNC paths on Windows here too\u001B[39;00m\n\u001B[0;32m    627\u001B[0m \u001B[38;5;66;03m# as is done in InteractiveShell.system_raw\u001B[39;00m\n\u001B[0;32m    628\u001B[0m \u001B[38;5;28;01mif\u001B[39;00m sys\u001B[38;5;241m.\u001B[39mplatform \u001B[38;5;241m==\u001B[39m \u001B[38;5;124m'\u001B[39m\u001B[38;5;124mwin32\u001B[39m\u001B[38;5;124m'\u001B[39m:\n",
      "\u001B[1;31mOSError\u001B[0m: Background processes not supported."
     ]
    }
   ],
   "source": [
    "!pip install -q pyngrok\n",
    "!pip install -q streamlit\n",
    "!pip install -q streamlit_ace\n",
    "!pip install fuzzywuzzy[speedup]\n",
    "!streamlit run app.py & > / dev / null &"
   ]
  },
  {
   "cell_type": "markdown",
   "source": [
    "# Codigo app.py"
   ],
   "metadata": {
    "id": "OUZKlnXiRQt-",
    "pycharm": {
     "name": "#%% md\n"
    }
   }
  },
  {
   "cell_type": "code",
   "source": [
    "%%writefile app.py\n",
    "\n",
    "import streamlit as st\n",
    "import requests as req\n",
    "import re\n",
    "from fuzzywuzzy import process\n",
    "from fuzzywuzzy import fuzz\n",
    "from pyngrok import ngrok\n",
    "\n",
    "def main():\n",
    "    html_temp = \"\"\" <div style =\"background-color:blue;padding:13px\">\n",
    "                      <h1 style = \"color:white;text-align:center;\">Verificador Imigração - PFA</h1>\n",
    "                    </dic>\n",
    "                \"\"\"\n",
    "\n",
    "    st.markdown(html_temp, unsafe_allow_html = True)\n",
    "    lista_passaporte = api_passaport()\n",
    "    lista_nome = api_nome()\n",
    "\n",
    "    lista_passaporte= regexlist(lista_passaporte)\n",
    "\n",
    "    input_passaporte = st.text_input('Passaporte')\n",
    "    input_nome = st.text_input('Nome Completo')\n",
    "\n",
    "    input_passaporte = re.sub('\\D', '', input_passaporte)\n",
    "\n",
    "    if st.button(\"Verificar\"):\n",
    "      clear = 0\n",
    "      clear = valid_passa(input_passaporte,lista_passaporte)\n",
    "      if clear == 1:\n",
    "        valid_nome(input_nome,lista_nome)\n",
    "\n",
    "def api_nome():\n",
    "    lista_nome = []\n",
    "    lista_interpol = req.get(\"https://cspinheiro.github.io/interpol.json\")\n",
    "    interpol = lista_interpol.json()['interpol']\n",
    "    for i in interpol:\n",
    "        lista_nome.append(i['interpol'])\n",
    "\n",
    "    return lista_nome\n",
    "\n",
    "def api_passaport():\n",
    "    lista_passaporte = []\n",
    "    lista_arg = req.get(\"https://kndhvh.github.io/arg.json\")\n",
    "    arg = lista_arg.json()['arg']\n",
    "    for i in arg:\n",
    "        lista_passaporte.append(str(i['arg']))\n",
    "    return lista_passaporte\n",
    "\n",
    "def regexlist(lista):\n",
    "\n",
    "    a='(?i)'\n",
    "\n",
    "    for i in lista:\n",
    "        a += f\"({i})|\"\n",
    "\n",
    "    a = a[:-1]\n",
    "\n",
    "    return a\n",
    "\n",
    "def getmatch_nome(input,lista):\n",
    "    search = process.extractOne(input,lista,scorer=fuzz.token_sort_ratio)\n",
    "    if search[1] > 80:\n",
    "      return 1\n",
    "    return 0\n",
    "        \n",
    "\n",
    "def valid_nome(input_nome,lista_nome):\n",
    "  if len(input_nome) > 4 and len(re.split('\\s',input_nome)) >= 2:\n",
    "      nome = getmatch_nome(input_nome,lista_nome)\n",
    "      if nome == 1:\n",
    "        st.error('[CUIDADO] Nome suspeito, favor investigar!')\n",
    "      if nome == 0:\n",
    "        st.success('[VERIFICADO] Passageiro liberado para entrada no pais!')\n",
    "  else:\n",
    "      st.warning('Nome Invalido!')\n",
    "\n",
    "def getmatch_passa(input,lista):\n",
    "    match = re.search(lista,input)\n",
    "\n",
    "    if match:\n",
    "        return 1\n",
    "    else:\n",
    "        return 0\n",
    "\n",
    "def valid_passa(input_passaporte,lista_passaporte):\n",
    "      if len(input_passaporte) == 9:\n",
    "        passa = getmatch_passa(input_passaporte,lista_passaporte)\n",
    "        if passa == 1:\n",
    "            st.error('[CUIDADO] Passaporte proibido, deter imediatamente!')\n",
    "            return 0\n",
    "        else:\n",
    "          return 1\n",
    "      else:\n",
    "        st.warning('Passaporte Invalido!')\n",
    "\n",
    "if __name__ == '__main__':\n",
    "    main()"
   ],
   "metadata": {
    "id": "GjEKnPwr8bts",
    "outputId": "15132f16-9111-4f74-c621-78651166ef25",
    "colab": {
     "base_uri": "https://localhost:8080/"
    },
    "pycharm": {
     "name": "#%%\n"
    }
   },
   "execution_count": null,
   "outputs": []
  },
  {
   "cell_type": "code",
   "source": [
    "!streamlit run app.py & npx localtunnel --port 8501"
   ],
   "metadata": {
    "id": "jMLGHpSi8eVD",
    "pycharm": {
     "name": "#%%\n"
    }
   },
   "execution_count": null,
   "outputs": []
  },
  {
   "cell_type": "code",
   "source": [
    "#teste\n",
    "import requests as req\n",
    "from fuzzywuzzy import process\n",
    "from fuzzywuzzy import fuzz\n",
    "\n",
    "lista_nome = []\n",
    "lista_interpol = req.get(\"https://cspinheiro.github.io/interpol.json\")\n",
    "interpol = lista_interpol.json()['interpol']\n",
    "for i in interpol:\n",
    "    lista_nome.append(i['interpol'])\n",
    "search = process.extractOne('Lucas Silva Leão Andrade ',lista_nome,scorer=fuzz.token_sort_ratio)\n"
   ],
   "metadata": {
    "id": "PyaSQqF0Zl1l",
    "pycharm": {
     "name": "#%%\n"
    }
   },
   "execution_count": null,
   "outputs": []
  },
  {
   "cell_type": "code",
   "source": [
    "lista_nome"
   ],
   "metadata": {
    "id": "lz6ZLZE4Dqvu",
    "pycharm": {
     "name": "#%%\n"
    }
   },
   "execution_count": null,
   "outputs": []
  },
  {
   "cell_type": "code",
   "source": [
    "print(search[1])"
   ],
   "metadata": {
    "id": "F7BmcA0oY37g",
    "outputId": "f66f7d95-7b49-41b1-bacd-c78bc69c77a3",
    "colab": {
     "base_uri": "https://localhost:8080/"
    },
    "pycharm": {
     "name": "#%%\n"
    }
   },
   "execution_count": null,
   "outputs": []
  },
  {
   "cell_type": "code",
   "execution_count": null,
   "outputs": [],
   "source": [],
   "metadata": {
    "collapsed": false,
    "pycharm": {
     "name": "#%%\n"
    }
   }
  }
 ],
 "metadata": {
  "kernelspec": {
   "display_name": "Python 3",
   "language": "python",
   "name": "python3"
  },
  "language_info": {
   "codemirror_mode": {
    "name": "ipython",
    "version": 2
   },
   "file_extension": ".py",
   "mimetype": "text/x-python",
   "name": "python",
   "nbconvert_exporter": "python",
   "pygments_lexer": "ipython2",
   "version": "2.7.6"
  },
  "colab": {
   "name": "main.ipynb",
   "provenance": []
  }
 },
 "nbformat": 4,
 "nbformat_minor": 0
}