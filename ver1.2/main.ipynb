{
 "cells": [
  {
   "cell_type": "code",
   "execution_count": null,
   "metadata": {
    "collapsed": true,
    "id": "Ey4SSeU68K2A"
   },
   "outputs": [],
   "source": [
    "!pip install -q pyngrok\n",
    "!pip install -q streamlit\n",
    "!pip install -q streamlit_ace\n",
    "!pip install fuzzywuzzy[speedup]\n",
    "!streamlit run app.py & > / dev / null &"
   ]
  },
  {
   "cell_type": "code",
   "source": [
    "%%writefile app.py\n",
    "import streamlit as st\n",
    "import requests as req\n",
    "import re\n",
    "from fuzzywuzzy import process\n",
    "from pyngrok import ngrok\n",
    "\n",
    "def main():\n",
    "    html_temp = \"\"\" <div style =\"background-color:blue;padding:13px\">\n",
    "                      <h1 style = \"color:white;text-align:center;\">Verificador Imigração - PFA</h1>\n",
    "                    </dic>\n",
    "                \"\"\"\n",
    "\n",
    "    st.markdown(html_temp, unsafe_allow_html = True)\n",
    "    lista_passaporte = api_passaport()\n",
    "    lista_nome = api_nome()\n",
    "\n",
    "    lista_passaporte= regexlist(lista_passaporte)\n",
    "\n",
    "    input_passaporte = st.text_input('Passaporte')\n",
    "    input_nome = st.text_input('Nome Completo')\n",
    "\n",
    "    input_passaporte = re.sub('\\D', '', input_passaporte)\n",
    "\n",
    "    if st.button(\"Verificar\"):\n",
    "      clear = 0\n",
    "      clear = valid_passa(input_passaporte,lista_passaporte)\n",
    "      if clear == 1:\n",
    "        valid_nome(input_nome,lista_passaporte)\n",
    "\n",
    "def api_nome():\n",
    "    lista_nome = []\n",
    "    lista_interpol = req.get(\"https://cspinheiro.github.io/interpol.json\")\n",
    "    interpol = lista_interpol.json()['interpol']\n",
    "    for i in interpol:\n",
    "        lista_nome.append(i['interpol'])\n",
    "\n",
    "    return lista_nome\n",
    "\n",
    "def api_passaport():\n",
    "    lista_passaporte = []\n",
    "    lista_arg = req.get(\"https://kndhvh.github.io/arg.json\")\n",
    "    arg = lista_arg.json()['arg']\n",
    "    for i in arg:\n",
    "        lista_passaporte.append(str(i['arg']))\n",
    "    return lista_passaporte\n",
    "\n",
    "def regexlist(lista):\n",
    "\n",
    "    a='(?i)'\n",
    "\n",
    "    for i in lista:\n",
    "        a += f\"({i})|\"\n",
    "\n",
    "    a = a[:-1]\n",
    "\n",
    "    return a\n",
    "\n",
    "def getmatch_nome(input,lista):\n",
    "    search = process.extractOne(input,lista)\n",
    "\n",
    "\n",
    "    if search[1] > 90:\n",
    "      return 2 \n",
    "    if search[1] > 70:\n",
    "      return 1\n",
    "    return 0\n",
    "        \n",
    "\n",
    "def valid_nome(input_nome,lista_nome):\n",
    "  if len(input_nome) > 4 and len(re.split('\\s',input_nome)) >= 2:\n",
    "      nome = getmatch_nome(input_nome,lista_nome)\n",
    "      if nome == 2:\n",
    "        st.error('[CUIDADO] Nome sujo, deter imediatamente!')\n",
    "      elif nome == 1:\n",
    "        st.error('[CUIDADO] Nome suspeito, favor investigar!')\n",
    "      else:\n",
    "        st.sucess('[VERIFICADO] Passageiro liberado para entrada no pais!')\n",
    "  else:\n",
    "      st.warning('Nome Invalido!')\n",
    "\n",
    "def getmatch_passa(input,lista):\n",
    "    match = re.search(lista,input)\n",
    "\n",
    "    if match:\n",
    "        return 1\n",
    "    else:\n",
    "        return 0\n",
    "\n",
    "def valid_passa(input_passaporte,lista_passaporte):\n",
    "      if len(input_passaporte) == 9:\n",
    "        passa = getmatch_passa(input_passaporte,lista_passaporte)\n",
    "        if passa == 1:\n",
    "            st.error('[CUIDADO] Passaporte proibido, deter imediatamente!')\n",
    "        return 1   \n",
    "      else:\n",
    "        st.warning('Passaporte Invalido!')\n",
    "\n",
    "if __name__ == '__main__':\n",
    "    main()"
   ],
   "metadata": {
    "id": "GjEKnPwr8bts",
    "outputId": "c974a728-e216-4e79-901a-900c51cdbf3c",
    "colab": {
     "base_uri": "https://localhost:8080/"
    },
    "pycharm": {
     "is_executing": true
    }
   },
   "execution_count": null,
   "outputs": []
  },
  {
   "cell_type": "code",
   "source": [
    "!streamlit run app.py & npx localtunnel --port 8501"
   ],
   "metadata": {
    "id": "jMLGHpSi8eVD",
    "outputId": "d00edf9f-f418-4f93-d8dd-1212e830cc5d",
    "colab": {
     "base_uri": "https://localhost:8080/"
    },
    "pycharm": {
     "is_executing": true
    }
   },
   "execution_count": null,
   "outputs": []
  },
  {
   "cell_type": "markdown",
   "source": [
    "# testes"
   ],
   "metadata": {
    "collapsed": false
   }
  },
  {
   "cell_type": "code",
   "execution_count": 2,
   "outputs": [],
   "source": [
    "import requests as req\n",
    "from fuzzywuzzy import process\n",
    "lista_nome = []\n",
    "lista_interpol = req.get(\"https://cspinheiro.github.io/interpol.json\")\n",
    "interpol = lista_interpol.json()['interpol']\n",
    "for i in interpol:\n",
    "    lista_nome.append(i['interpol'])"
   ],
   "metadata": {
    "collapsed": false,
    "pycharm": {
     "name": "#%%\n"
    }
   }
  },
  {
   "cell_type": "code",
   "execution_count": 3,
   "outputs": [
    {
     "data": {
      "text/plain": "['Priscila dos Santos Pereira',\n 'Bruno de Oliveira Ribeiro',\n 'Pedro da Silva ',\n 'Luzia dos Anjos ',\n 'Luzivan de Oliveira ',\n 'Ricardo da Silva Leão',\n 'Bruna de Villas Boas ',\n 'Fernando dos Santos Pereira',\n 'Fernando de Oliveira Ribeiro',\n 'Pietra da Silva Rebouças',\n 'Fernanda dos Anjos Pinheiro',\n 'Fernando de Oliveira ',\n 'Patrícia da Silva Ribeiro',\n 'Fernando de Villas Boas ',\n 'Maurício dos Santos Pereira',\n 'Marlene de Oliveira Ribeiro',\n 'Nathan da Silva ',\n 'Maurício dos Anjos Pinheiro',\n 'Michael de Oliveira ',\n 'Maurício da Silva Ribeiro',\n 'Maurício de Villas Boas ',\n 'Isabelle dos Santos Pereira',\n 'João de Oliveira Ribeiro',\n 'Isabelle da Silva ',\n 'Isabelle dos Anjos Pinheiro',\n 'Isabelle de Oliveira ',\n 'Ana da Silva Ribeiro',\n 'Isabelle de Villas Boas ',\n 'Marianna dos Santos Pereira',\n 'Marianna de Oliveira Ribeiro',\n 'Marcos da Silva ',\n 'Marianna dos Anjos Pinheiro',\n 'Camila de Oliveira ',\n 'Marianna da Silva Ribeiro',\n 'Marianna de Villas Boas ',\n 'Pedro dos Santos Pereira',\n 'Leonardo de Oliveira Ribeiro',\n 'Pedro da Silva ',\n 'Pedro dos Anjos ',\n 'Pedro de Oliveira ',\n 'Silvana da Silva Leão',\n 'Pedro de Villas Boas ',\n 'Maria Clara Santos Pereira',\n 'Fabiana Oliveira Ribeiro',\n 'Maria Clara Silva ',\n 'Maria Clara Anjos ',\n 'Fábio Oliveira ',\n 'Maria Clara Silva Leão',\n 'Maria Clara Villas Boas ',\n 'Danielly Santos Pereira',\n 'Bárbara Oliveira Ribeiro',\n 'Danielly Silva ',\n 'Arthur Anjos ',\n 'Danielly Oliveira ',\n 'Luana Silva Leão',\n 'Danielly Villas Boas ',\n 'Larissa Santos Pereira',\n 'Larissa Oliveira Ribeiro',\n 'Sidinei Silva ',\n 'Keila Anjos ',\n 'Larissa Oliveira ',\n 'Lucas Silva Leão',\n 'Bianca Villas Boas ']"
     },
     "execution_count": 3,
     "metadata": {},
     "output_type": "execute_result"
    }
   ],
   "source": [
    "lista_nome"
   ],
   "metadata": {
    "collapsed": false,
    "pycharm": {
     "name": "#%%\n"
    }
   }
  },
  {
   "cell_type": "code",
   "execution_count": null,
   "outputs": [],
   "source": [],
   "metadata": {
    "collapsed": false,
    "pycharm": {
     "name": "#%%\n"
    }
   }
  }
 ],
 "metadata": {
  "kernelspec": {
   "display_name": "Python 3",
   "language": "python",
   "name": "python3"
  },
  "language_info": {
   "codemirror_mode": {
    "name": "ipython",
    "version": 2
   },
   "file_extension": ".py",
   "mimetype": "text/x-python",
   "name": "python",
   "nbconvert_exporter": "python",
   "pygments_lexer": "ipython2",
   "version": "2.7.6"
  },
  "colab": {
   "name": "main.ipynb",
   "provenance": []
  }
 },
 "nbformat": 4,
 "nbformat_minor": 0
}